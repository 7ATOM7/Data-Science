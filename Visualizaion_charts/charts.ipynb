{
 "cells": [
  {
   "cell_type": "code",
   "execution_count": 145,
   "metadata": {},
   "outputs": [
    {
     "name": "stdout",
     "output_type": "stream",
     "text": [
      "[[0 0 0 0]\n",
      " [0 0 0 0]\n",
      " [0 0 0 0]\n",
      " [0 0 0 0]]\n",
      "[[1 1 1 1]\n",
      " [1 0 0 1]\n",
      " [1 0 0 1]\n",
      " [1 1 1 1]]\n"
     ]
    }
   ],
   "source": [
    "import numpy as np\n",
    "a = np.array([[1,2,3],[4,5,6],[7,8,9]])\n",
    "list_1 = [1,2,3,4,5]\n",
    "list_2 = [1,2,3,4,5]\n",
    "product_list = map(lambda x,y: x*y,list_1,list_2)\n",
    "#print(list(product_list))\n",
    "\n",
    "\n",
    "#print(np.array(list_1)*np.array(list_2))\n",
    "a =np.zeros([5,2,2])\n",
    "#print(type(a))\n",
    "#print(np.arange(0,100,5))\n",
    "#print(np.linspace(15,20,30))\n",
    "#print(help(np.full))\n",
    "#print(help(np.tile))\n",
    "\n",
    "n =5\n",
    "a = np.zeros((n,n),dtype = int)\n",
    "a[1::2,::2] = 1\n",
    "a[::2,1::2] = 1\n",
    "\n",
    "b = np.array([[1,2,3],[4,5,6],[7,8,9]])\n",
    "#print(b[1::2,::2])\n",
    "\n",
    "\n",
    "a = [2, 5, 9, 12, 13, 15, 16, 17, 18, 19]\n",
    "b = [2, 4, 5, 6, 7, 9, 13, 16, 20]\n",
    "c =[1, 2, 5, 9, 10, 11, 12, 13, 15, 20] \n",
    "dict_temp = {}\n",
    "for x in a + b + c:\n",
    "    dict_temp[x] = 1 + dict_temp.get(x,0)\n",
    "result = [x for x in dict_temp if dict_temp[x] == 2]\n",
    "#print(result)\n",
    "check = a+b+c\n",
    "check.sort()\n",
    "#print(check)\n",
    "full = [x for x in range(1,21)]\n",
    "#print(set(full) -(set(a) | set(b) | set(c)))\n",
    "\n",
    "\n",
    "a = np.array([[4, 3, 1], [5, 7, 0], [9, 9, 3], [8, 2, 4]])\n",
    "\n",
    "temp = list(a[0])\n",
    "a[0] = a[3]\n",
    "a[3] = np.array(temp)\n",
    "\n",
    "a[[1,2]] = a[[2,1]]\n",
    "a = np.zeros([4,4],dtype = int)\n",
    "print(a)\n",
    "a[0,:]= 1\n",
    "a[:,0] = 1\n",
    "a[3,:] = 1\n",
    "a[:,3] = 1\n",
    "print(a)"
   ]
  },
  {
   "cell_type": "code",
   "execution_count": 174,
   "metadata": {},
   "outputs": [
    {
     "name": "stdout",
     "output_type": "stream",
     "text": [
      "   age  age group eligible           job  salary  marital  education  \\\n",
      "0   58          5        Y    management  100000  married   tertiary   \n",
      "1   44          4        Y    technician   60000   single  secondary   \n",
      "2   33          3        Y  entrepreneur  120000  married  secondary   \n",
      "3   47          4        Y   blue-collar   20000  married    unknown   \n",
      "4   33          3        Y       unknown       0   single    unknown   \n",
      "\n",
      "   marital-education targeted default  ...  contact day month duration  \\\n",
      "0   married-tertiary      yes      no  ...  unknown   5   may      261   \n",
      "1   single-secondary      yes      no  ...  unknown   5   may      151   \n",
      "2  married-secondary      yes      no  ...  unknown   5   may       76   \n",
      "3    married-unknown       no      no  ...  unknown   5   may       92   \n",
      "4     single-unknown       no      no  ...  unknown   5   may      198   \n",
      "\n",
      "   campaign pdays  previous  poutcome   y  response  \n",
      "0         1    -1         0   unknown  no         0  \n",
      "1         1    -1         0   unknown  no         0  \n",
      "2         1    -1         0   unknown  no         0  \n",
      "3         1    -1         0   unknown  no         0  \n",
      "4         1    -1         0   unknown  no         0  \n",
      "\n",
      "[5 rows x 23 columns]\n",
      "60000.0\n"
     ]
    },
    {
     "data": {
      "image/png": "[encoded data removed]",
      "text/plain": [
       "<Figure size 432x288 with 1 Axes>"
      ]
     },
     "metadata": {
      "needs_background": "light"
     },
     "output_type": "display_data"
    }
   ],
   "source": [
    "import matplotlib.pyplot as plt\n",
    "import pandas as pd\n",
    "import numpy as np\n",
    "\n",
    "df = pd.read_csv(\"C://Users//Librarian//GitHub//Upgrad//Data-Science//MS Excel//bank-marketing.csv\")\n",
    "print(a.head(5))\n",
    "x = np.linspace(0,1,50)\n",
    "y = np.linspace(3,900,50)\n",
    "print(df['salary'].median())\n",
    "plt.hist(df['salary'])\n",
    "plt.show()"
   ]
  },
  {
   "cell_type": "code",
   "execution_count": null,
   "metadata": {},
   "outputs": [],
   "source": []
  }
 ],
 "metadata": {
  "kernelspec": {
   "display_name": "Python 3",
   "language": "python",
   "name": "python3"
  },
  "language_info": {
   "codemirror_mode": {
    "name": "ipython",
    "version": 3
   },
   "file_extension": ".py",
   "mimetype": "text/x-python",
   "name": "python",
   "nbconvert_exporter": "python",
   "pygments_lexer": "ipython3",
   "version": "3.7.3"
  }
 },
 "nbformat": 4,
 "nbformat_minor": 2
}
