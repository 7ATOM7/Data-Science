{
 "cells": [
  {
   "cell_type": "code",
   "execution_count": 1,
   "metadata": {},
   "outputs": [],
   "source": [
    "import numpy as np\n",
    "import pandas as pd"
   ]
  },
  {
   "cell_type": "code",
   "execution_count": 31,
   "metadata": {},
   "outputs": [
    {
     "name": "stdout",
     "output_type": "stream",
     "text": [
      "      Matches   Won  Lost  Tied  N/R  Points    NRR     For  Against\n",
      "Team                                                                \n",
      "SRH      28.0  17.0  10.0   0.0  1.0    35.0  0.753  4451.0   4311.0\n"
     ]
    }
   ],
   "source": [
    "import numpy as np\n",
    "import pandas as pd\n",
    "ipl18 = pd.DataFrame({'Team': ['SRH', 'CSK', 'KKR', 'RR', 'MI', 'RCB', 'KXIP', 'DD'],\n",
    "                         'Matches': [14, 14, 14, 14, 14, 14, 14, 14],\n",
    "                         'Won': [9, 9, 8, 7, 6, 6, 6, 5],\n",
    "                         'Lost': [5, 5, 6, 7, 8, 8, 8, 9],\n",
    "                         'Tied': [0, 0, 0, 0, 0, 0, 0, 0],\n",
    "                         'N/R': [0, 0, 0, 0, 0, 0, 0, 0],\n",
    "                         'Points': [18, 18, 16, 14, 12, 12, 12, 10],\n",
    "                         'NRR': [0.284, 0.253, -0.070, -0.250, 0.317, 0.129, -0.502, -0.222],\n",
    "                         'For': [2230, 2488, 2363, 2130, 2380, 2322, 2210, 2297],\n",
    "                         'Against': [2193, 2433, 2425, 2141, 2282, 2383, 2259, 2304]},\n",
    "                         index = range(1,9)\n",
    "                    )\n",
    "\n",
    "ipl18\n",
    "ipl17 = pd.DataFrame({'Team': ['MI', 'RPS', 'SRH', 'KKR', 'KXIP', 'DD', 'GL', 'RCB'],\n",
    "                         'Matches': [14, 14, 14, 14, 14, 14, 14, 14],\n",
    "                         'Won': [10, 9, 8, 8, 7, 6, 4, 3],\n",
    "                         'Lost': [4, 5, 5, 6, 7, 8, 10, 10],\n",
    "                         'Tied': [0, 0, 0, 0, 0, 0, 0, 0],\n",
    "                         'N/R': [0, 0, 1, 0, 0, 0, 0, 1],\n",
    "                         'Points': [20, 18, 17, 16, 14, 12, 8, 7],\n",
    "                         'NRR': [0.784, 0.176, 0.469, 0.641, 0.123, -0.512, -0.412, -1.299],\n",
    "                         'For': [2407, 2180, 2221, 2329, 2207, 2219, 2406, 1845],\n",
    "                         'Against': [2242, 2165, 2118, 2300, 2229, 2255, 2472, 2033]},\n",
    "                         index = range(1,9)\n",
    "                    )\n",
    "\n",
    "ipl17\n",
    "\n",
    "ipl17.set_index('Team',inplace = True)\n",
    "ipl18.set_index('Team',inplace = True)\n",
    "ipl_final = ipl17.add(ipl18,fill_value=0)\n",
    "print(ipl_final[(ipl_final.Points > 25) & (ipl_final.Points == ipl_final['Points'].max()) ])"
   ]
  },
  {
   "cell_type": "code",
   "execution_count": null,
   "metadata": {},
   "outputs": [],
   "source": []
  },
  {
   "cell_type": "code",
   "execution_count": null,
   "metadata": {},
   "outputs": [],
   "source": [
    "\n"
   ]
  }
 ],
 "metadata": {
  "kernelspec": {
   "display_name": "Python 3",
   "language": "python",
   "name": "python3"
  },
  "language_info": {
   "codemirror_mode": {
    "name": "ipython",
    "version": 3
   },
   "file_extension": ".py",
   "mimetype": "text/x-python",
   "name": "python",
   "nbconvert_exporter": "python",
   "pygments_lexer": "ipython3",
   "version": "3.7.3"
  }
 },
 "nbformat": 4,
 "nbformat_minor": 2
}
