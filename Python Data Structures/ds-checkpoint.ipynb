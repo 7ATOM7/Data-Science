{
 "cells": [
  {
   "cell_type": "code",
   "execution_count": 84,
   "metadata": {},
   "outputs": [
    {
     "name": "stdout",
     "output_type": "stream",
     "text": [
      "True\n",
      "True\n",
      "hello 3000200\n",
      "0 a\n",
      "1 b\n",
      "2 c\n"
     ]
    }
   ],
   "source": [
    "a = 'Just telling you that no need to rush. Enjoy every moment. Make decisions for that goal.'\n",
    "b=a.split(' ')\n",
    "c = ' '.join(b)\n",
    "#print(b + b)\n",
    "\n",
    "c= [1,2,3] + [1,1,1,1,5,6]\n",
    "#print([[1,2,3],[2,3],[4,5]][:2])\n",
    "\n",
    "word = ['1','2','3','4']\n",
    "word[:] = []\n",
    "#print(word)\n",
    "    \n",
    "    \n",
    "t1 = (1,'Amal','2')\n",
    "t2 = (2,'Mayank','1')\n",
    "\n",
    "#print(tuple(list(t1) + ['Python']))\n",
    "\n",
    "a = {'a':1,'b':2,'c':3}\n",
    "#for i in a:\n",
    "    #print(i,a[i])\n",
    "list(a.keys())\n",
    "list(a.values())\n",
    "\n",
    "b =dict(country = \"India\",status =[4,0,4])\n",
    "#print(set([1,1,2,3,4,55,6,6,7]))\n",
    "print(list([2,1,3]) == list([2,1,3]))\n",
    "\n",
    "\n",
    "set([1,2,3]).difference(set([1])).union(set([4,5,1]))\n",
    "\n",
    "print(1<2<3<5)\n",
    "if 3 in [1,2,3,4]:\n",
    "    print(\"hello {a}{b}\".format(a=3000,b=200))\n",
    "a = {1,2,3}    \n",
    "for i,n in enumerate({'a':1,'b':2,'c':3}):\n",
    "    print(i,n)"
   ]
  },
  {
   "cell_type": "code",
   "execution_count": 102,
   "metadata": {},
   "outputs": [
    {
     "name": "stdout",
     "output_type": "stream",
     "text": [
      "None\n",
      "{0, 1, 2, 11}\n"
     ]
    },
    {
     "data": {
      "text/plain": [
       "0"
      ]
     },
     "execution_count": 102,
     "metadata": {},
     "output_type": "execute_result"
    }
   ],
   "source": [
    "start  = 0\n",
    "total = 0\n",
    "while start < 51:\n",
    "    total+=start\n",
    "    start+=1\n",
    "#print(total)\n",
    "\n",
    "d ={0,1,2}\n",
    "for i in d:\n",
    "    d.add(i)\n",
    "print(d.add(11))\n",
    "print(d)\n",
    "d.pop()\n"
   ]
  },
  {
   "cell_type": "code",
   "execution_count": 145,
   "metadata": {},
   "outputs": [
    {
     "data": {
      "text/plain": [
       "[['Mugivara', 'Luffy'],\n",
       " [\"I'm\", 'gonna', 'be', 'the', 'pirate', 'king'],\n",
       " ['Shit!!', 'Shanks', 'lost', 'an', 'arm']]"
      ]
     },
     "execution_count": 145,
     "metadata": {},
     "output_type": "execute_result"
    }
   ],
   "source": [
    "[{x,x*2} for x in range(1,10)]\n",
    "para = [\"Mugivara Luffy\",\"I'm gonna be the pirate king\",\"Shit!! Shanks lost an arm\"]\n",
    "b = []\n",
    "for x in para:\n",
    "    b+=x.split()\n",
    "a = []\n",
    "[x.split() for x in para]\n",
    "#print([word for sentence in para for word in sentence.split()])"
   ]
  },
  {
   "cell_type": "code",
   "execution_count": 155,
   "metadata": {},
   "outputs": [
    {
     "data": {
      "text/plain": [
       "[\"I'm\", 'an', 'arm']"
      ]
     },
     "execution_count": 155,
     "metadata": {},
     "output_type": "execute_result"
    }
   ],
   "source": [
    "[word for sentence in para for word in sentence.split() if word[0] in 'aeiouAEIOU']"
   ]
  }
 ],
 "metadata": {
  "kernelspec": {
   "display_name": "Python 3",
   "language": "python",
   "name": "python3"
  },
  "language_info": {
   "codemirror_mode": {
    "name": "ipython",
    "version": 3
   },
   "file_extension": ".py",
   "mimetype": "text/x-python",
   "name": "python",
   "nbconvert_exporter": "python",
   "pygments_lexer": "ipython3",
   "version": "3.7.3"
  }
 },
 "nbformat": 4,
 "nbformat_minor": 2
}
