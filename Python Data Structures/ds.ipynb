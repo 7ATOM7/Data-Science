{
 "cells": [
  {
   "cell_type": "code",
   "execution_count": 38,
   "metadata": {},
   "outputs": [
    {
     "name": "stdout",
     "output_type": "stream",
     "text": [
      "['Just', 'telling', 'you', 'that', 'no', 'need', 'to', 'rush.', 'Enjoy', 'every', 'moment.', 'Make', 'decisions', 'for', 'that', 'goal.', 'Just', 'telling', 'you', 'that', 'no', 'need', 'to', 'rush.', 'Enjoy', 'every', 'moment.', 'Make', 'decisions', 'for', 'that', 'goal.']\n",
      "[[1, 2, 3], [2, 3], [4, 5]]\n",
      "[]\n",
      "(1, 'Amal', '2', 'Python')\n"
     ]
    }
   ],
   "source": [
    "a = 'Just telling you that no need to rush. Enjoy every moment. Make decisions for that goal.'\n",
    "b=a.split(' ')\n",
    "c = ' '.join(b)\n",
    "print(b + b)\n",
    "\n",
    "c= [1,2,3] + [1,1,1,1,5,6]\n",
    "print([[1,2,3],[2,3],[4,5]][:3])\n",
    "\n",
    "word = ['1','2','3','4']\n",
    "word[:] = []\n",
    "print(word)\n",
    "    \n",
    "    \n",
    "t1 = (1,'Amal','2')\n",
    "t2 = (2,'Mayank','1')\n",
    "\n",
    "print(tuple(list(t1) + ['Python']))"
   ]
  }
 ],
 "metadata": {
  "kernelspec": {
   "display_name": "Python 3",
   "language": "python",
   "name": "python3"
  },
  "language_info": {
   "codemirror_mode": {
    "name": "ipython",
    "version": 3
   },
   "file_extension": ".py",
   "mimetype": "text/x-python",
   "name": "python",
   "nbconvert_exporter": "python",
   "pygments_lexer": "ipython3",
   "version": "3.7.3"
  }
 },
 "nbformat": 4,
 "nbformat_minor": 2
}
