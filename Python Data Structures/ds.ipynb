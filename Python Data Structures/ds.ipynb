{
 "cells": [
  {
   "cell_type": "code",
   "execution_count": 64,
   "metadata": {},
   "outputs": [
    {
     "name": "stdout",
     "output_type": "stream",
     "text": [
      "True\n"
     ]
    },
    {
     "data": {
      "text/plain": [
       "{1, 2, 3, 4, 5}"
      ]
     },
     "execution_count": 64,
     "metadata": {},
     "output_type": "execute_result"
    }
   ],
   "source": [
    "a = 'Just telling you that no need to rush. Enjoy every moment. Make decisions for that goal.'\n",
    "b=a.split(' ')\n",
    "c = ' '.join(b)\n",
    "#print(b + b)\n",
    "\n",
    "c= [1,2,3] + [1,1,1,1,5,6]\n",
    "#print([[1,2,3],[2,3],[4,5]][:2])\n",
    "\n",
    "word = ['1','2','3','4']\n",
    "word[:] = []\n",
    "#print(word)\n",
    "    \n",
    "    \n",
    "t1 = (1,'Amal','2')\n",
    "t2 = (2,'Mayank','1')\n",
    "\n",
    "#print(tuple(list(t1) + ['Python']))\n",
    "\n",
    "a = {'a':1,'b':2,'c':3}\n",
    "#for i in a:\n",
    "    #print(i,a[i])\n",
    "list(a.keys())\n",
    "list(a.values())\n",
    "\n",
    "b =dict(country = \"India\",status =[4,0,4])\n",
    "#print(set([1,1,2,3,4,55,6,6,7]))\n",
    "print(list([2,1,3]) == list([2,1,3]))\n",
    "\n",
    "\n",
    "set([1,2,3]).difference(set([1])).union(set([4,5,1]))"
   ]
  },
  {
   "cell_type": "code",
   "execution_count": null,
   "metadata": {},
   "outputs": [],
   "source": []
  }
 ],
 "metadata": {
  "kernelspec": {
   "display_name": "Python 3",
   "language": "python",
   "name": "python3"
  },
  "language_info": {
   "codemirror_mode": {
    "name": "ipython",
    "version": 3
   },
   "file_extension": ".py",
   "mimetype": "text/x-python",
   "name": "python",
   "nbconvert_exporter": "python",
   "pygments_lexer": "ipython3",
   "version": "3.7.3"
  }
 },
 "nbformat": 4,
 "nbformat_minor": 2
}
